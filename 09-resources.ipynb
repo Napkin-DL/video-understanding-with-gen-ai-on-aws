{
 "cells": [
  {
   "cell_type": "markdown",
   "metadata": {
    "editable": true,
    "slideshow": {
     "slide_type": ""
    },
    "tags": []
   },
   "source": [
    "# 추가 리소스\n",
    "\n",
    "## Media2Cloud\n",
    "\n",
    "- [Media2Cloud Solution Guidance](https://github.com/aws-solutions-library-samples/guidance-for-media2cloud-on-aws)\n",
    "\n",
    "- [블로그 포스트: AWS 버전 4.0의 Media2Cloud Guidance를 통한 차세대 미디어 인텔리전스](https://aws.amazon.com/blogs/media/the-next-generation-of-media-intelligence-with-media2cloud-4-0/)\n",
    "\n",
    "## Contextual Advertising\n",
    "\n",
    "- 이 워크플로우는 Media2Cloud V4의 일부입니다\n",
    "- [블로그 포스트: AWS의 Media2Cloud Guidance: Generative AI를 사용한 scene 및 ad-break 감지와 광고를 위한 맥락적 이해](https://aws.amazon.com/blogs/media/media2cloud-on-aws-guidance-scene-and-ad-break-detection-and-contextual-understanding-for-advertising-using-generative-ai/)\n",
    "\n",
    "## Video Summarization\n",
    "\n",
    "- [AWS Solution Library: Amazon SageMaker와 AI Services를 사용한 비디오 요약 Guidance](https://aws.amazon.com/solutions/guidance/video-summarization-using-amazon-sagemaker-and-ai-services/)\n",
    "- [블로그 포스트: AWS artificial intelligence (AI)와 machine learning (ML) services를 사용한 비디오 요약](https://aws.amazon.com/blogs/media/video-summarization-with-aws-artificial-intelligence-ai-and-machine-learning-ml-services/)\n",
    "- [GitHub의 AWS Samples 프로젝트](https://github.com/aws-samples/video-summarization-with-aws-ai-ml-services)\n",
    "\n",
    "## Semantic Video Search\n",
    "\n",
    "- [AWS Solution Library: AWS의 Semantic Video Search Guidance](https://aws.amazon.com/solutions/guidance/semantic-video-search-on-aws/)\n",
    "- [GitHub의 AWS Samples 프로젝트](https://github.com/aws-samples/video-semantic-search-with-aws-ai-ml-services/)\n",
    "- [블로그 포스트: 고급 RAG와 Amazon Bedrock으로 멀티모달 어시스턴트 만들기](https://aws.amazon.com/blogs/machine-learning/create-a-multimodal-assistant-with-advanced-rag-and-amazon-bedrock/)\n",
    "\n",
    "## AWS의 Generative AI를 활용한 비디오 이해 (이 워크숍)\n",
    "\n",
    "- [GitHub의 AWS Samples](https://github.com/aws-samples/media-analysis-with-generative-ai-on-aws)\n"
   ]
  },
  {
   "cell_type": "markdown",
   "metadata": {
    "editable": true,
    "slideshow": {
     "slide_type": ""
    },
    "tags": []
   },
   "source": [
    "# 다음은 무엇인가요?\n",
    "\n",
    "자체 계정에서 이 워크숍을 실행하고 있다면, 이 워크숍 동안 생성된 리소스를 정리하기 위해 [Cleanup](10-cleanup.ipynb) 실습의 지침을 반드시 따릅니다."
   ]
  },
  {
   "cell_type": "code",
   "execution_count": null,
   "metadata": {
    "editable": true,
    "slideshow": {
     "slide_type": ""
    },
    "tags": []
   },
   "outputs": [],
   "source": []
  },
  {
   "cell_type": "code",
   "execution_count": null,
   "metadata": {},
   "outputs": [],
   "source": []
  }
 ],
 "metadata": {
  "kernelspec": {
   "display_name": "Python 3 (ipykernel)",
   "language": "python",
   "name": "python3"
  },
  "language_info": {
   "codemirror_mode": {
    "name": "ipython",
    "version": 3
   },
   "file_extension": ".py",
   "mimetype": "text/x-python",
   "name": "python",
   "nbconvert_exporter": "python",
   "pygments_lexer": "ipython3",
   "version": "3.11.11"
  }
 },
 "nbformat": 4,
 "nbformat_minor": 4
}
