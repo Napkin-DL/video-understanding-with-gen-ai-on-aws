{
 "cells": [
  {
   "cell_type": "markdown",
   "id": "9c84a641-be01-4cd5-8b24-f175f16121c4",
   "metadata": {
    "editable": false,
    "slideshow": {
     "slide_type": ""
    },
    "tags": []
   },
   "source": [
    "# Prerequisites"
   ]
  },
  {
   "cell_type": "markdown",
   "id": "9314b5cb-335e-48d2-b26a-a1ab92291f36",
   "metadata": {
    "editable": true,
    "slideshow": {
     "slide_type": ""
    },
    "tags": []
   },
   "source": [
    "# AWS Video Understanding on AWS 워크숍에 오신 것을 환영합니다!\n",
    "\n",
    "워크숍은 기초와 사용 사례, 두 가지 주요 부분으로 구성되어 있습니다. 기초 노트북에서는 노트북 환경을 설정하고, 샘플 비디오를 클립으로 나누어 준비하며, Foundation 모델을 사용하여 비디오 클립에 대한 인사이트를 생성하는 실험을 하게 됩니다. 워크숍의 두 번째 부분에서는 이러한 기초를 바탕으로 다양한 비디오 이해 사용 사례를 해결하게 됩니다. 사용 사례들은 독립적이며 어떤 순서로든 실행할 수 있습니다.\n",
    "\n",
    "**Part 1: Foundations (필수, 순서대로 실행):**\n",
    "\n",
    "1. Prerequisites (현재 노트북) (10분)\n",
    "2. [Visual video segments: frames, shots and scenes](01A-visual-segments-frames-shots-scenes.ipynb) (20분)\n",
    "3. [Audio segments](01B-audio-segments.ipynb) (10분)\n",
    "\n",
    "**Part 2: Use cases (선택, 순서 무관):**\n",
    "\n",
    "기초 노트북을 실행한 후에는 어떤 사용 사례든 선택할 수 있습니다. AWS Workshop 이벤트에서 실행하는 경우, 2시간 세션 동안 기초와 하나의 사용 사례를 완료할 수 있습니다:\n",
    "\n",
    "* [Ad break detection and contextual Ad targeting](02-ad-breaks-and-contextual-ad-targeting.ipynb) (20분) - 광고 삽입 기회를 식별합니다. 표준 분류법을 사용하여 비디오 콘텐츠를 광고 콘텐츠와 매칭합니다.\n",
    "* [Video summarization](03-video-summarization.ipynb) (20분) - 긴 비디오에서 짧은 형식의 비디오를 생성합니다.\n",
    "* [Semantic video search](04-semantic-video-search.ipynb) (20분) - 이미지와 자연어를 사용하여 관련 클립을 찾는 비디오 검색\n",
    "\n",
    "**Additional Notebooks**\n",
    "\n",
    "`additional-notebooks` 폴더에 추가 노트북이 있습니다. 이는 주요 튜토리얼의 작업에 대한 대체 구현 튜토리얼입니다.\n",
    "\n",
    "* [Shot detection with Titan Multimodal Embeddings](./additional-notebooks/01a-shot-detection-with-embeddings.ipynb)\n",
    "\n",
    "**Resources**\n",
    "\n",
    "이 워크숍의 활동들은 AWS Solution Guidance를 기반으로 합니다. [Additional Resources](./09-resources.ipynb) 랩에는 관련 참조 아키텍처, 코드 샘플 및 블로그 게시물 링크가 포함되어 있습니다."
   ]
  },
  {
   "cell_type": "markdown",
   "id": "8fce212e-9c89-4b32-8327-52fae47b2ff5",
   "metadata": {
    "editable": true,
    "slideshow": {
     "slide_type": ""
    },
    "tags": []
   },
   "source": [
    "# ffmpeg 및 python 패키지 설치\n",
    "\n",
    "- 비디오 및 이미지 처리를 위한 ffmpeg\n",
    "- 벡터 저장소를 위한 faiss\n",
    "- 자막 파일 파싱을 위한 webvtt-py \n",
    "- 출력 포맷팅을 위한 termcolor"
   ]
  },
  {
   "cell_type": "code",
   "execution_count": 1,
   "id": "ab951b69-de93-47d8-9d1a-1ee1cbe334dc",
   "metadata": {
    "editable": false,
    "scrolled": true,
    "slideshow": {
     "slide_type": ""
    },
    "tags": []
   },
   "outputs": [
    {
     "name": "stdout",
     "output_type": "stream",
     "text": [
      "Hit:1 http://archive.ubuntu.com/ubuntu jammy InRelease\n",
      "Get:2 http://archive.ubuntu.com/ubuntu jammy-updates InRelease [128 kB]\n",
      "Get:3 http://security.ubuntu.com/ubuntu jammy-security InRelease [129 kB]\n",
      "Hit:4 http://archive.ubuntu.com/ubuntu jammy-backports InRelease    \u001b[0m\u001b[33m\u001b[33m\n",
      "Fetched 257 kB in 1s (302 kB/s)    \u001b[0m                  \u001b[33m\u001b[33m\u001b[33m\n",
      "Reading package lists... Done\n",
      "Building dependency tree... Done\n",
      "Reading state information... Done\n",
      "25 packages can be upgraded. Run 'apt list --upgradable' to see them.\n",
      "Reading package lists... Done\n",
      "Building dependency tree... Done\n",
      "Reading state information... Done\n",
      "ffmpeg is already the newest version (7:4.4.2-0ubuntu0.22.04.1).\n",
      "0 upgraded, 0 newly installed, 0 to remove and 25 not upgraded.\n"
     ]
    }
   ],
   "source": [
    "## install ffmpeg\n",
    "!sudo apt update -y && sudo apt-get -y install ffmpeg"
   ]
  },
  {
   "cell_type": "code",
   "execution_count": 2,
   "id": "8cc9bef1-db74-4935-b033-a25e4738e7c6",
   "metadata": {
    "editable": false,
    "slideshow": {
     "slide_type": ""
    },
    "tags": []
   },
   "outputs": [
    {
     "name": "stdout",
     "output_type": "stream",
     "text": [
      "/usr/bin/ffmpeg\n"
     ]
    }
   ],
   "source": [
    "## Make sure ffmpeg is installed\n",
    "!which ffmpeg"
   ]
  },
  {
   "cell_type": "code",
   "execution_count": 3,
   "id": "62880031-88de-4ba3-8267-aa3837d3df95",
   "metadata": {
    "editable": false,
    "scrolled": true,
    "slideshow": {
     "slide_type": ""
    },
    "tags": []
   },
   "outputs": [
    {
     "name": "stdout",
     "output_type": "stream",
     "text": [
      "Requirement already satisfied: faiss-cpu==1.8.0 in /opt/conda/lib/python3.11/site-packages (from -r requirements.txt (line 1)) (1.8.0)\n",
      "Requirement already satisfied: ImageHash==4.3.1 in /opt/conda/lib/python3.11/site-packages (from -r requirements.txt (line 2)) (4.3.1)\n",
      "Requirement already satisfied: imageio-ffmpeg==0.5.1 in /opt/conda/lib/python3.11/site-packages (from -r requirements.txt (line 3)) (0.5.1)\n",
      "Requirement already satisfied: json_repair==0.30.2 in /opt/conda/lib/python3.11/site-packages (from -r requirements.txt (line 4)) (0.30.2)\n",
      "Requirement already satisfied: matplotlib==3.9.2 in /opt/conda/lib/python3.11/site-packages (from -r requirements.txt (line 5)) (3.9.2)\n",
      "Requirement already satisfied: moviepy==1.0.3 in /opt/conda/lib/python3.11/site-packages (from -r requirements.txt (line 6)) (1.0.3)\n",
      "Requirement already satisfied: opencv-python-headless==4.10.0.84 in /opt/conda/lib/python3.11/site-packages (from -r requirements.txt (line 7)) (4.10.0.84)\n",
      "Requirement already satisfied: opensearch-py==2.4.2 in /opt/conda/lib/python3.11/site-packages (from -r requirements.txt (line 8)) (2.4.2)\n",
      "Requirement already satisfied: webvtt-py==0.5.1 in /opt/conda/lib/python3.11/site-packages (from -r requirements.txt (line 9)) (0.5.1)\n",
      "Requirement already satisfied: termcolor in /opt/conda/lib/python3.11/site-packages (from -r requirements.txt (line 10)) (2.5.0)\n",
      "Requirement already satisfied: numpy in /opt/conda/lib/python3.11/site-packages (from faiss-cpu==1.8.0->-r requirements.txt (line 1)) (1.26.4)\n",
      "Requirement already satisfied: PyWavelets in /opt/conda/lib/python3.11/site-packages (from ImageHash==4.3.1->-r requirements.txt (line 2)) (1.8.0)\n",
      "Requirement already satisfied: pillow in /opt/conda/lib/python3.11/site-packages (from ImageHash==4.3.1->-r requirements.txt (line 2)) (11.1.0)\n",
      "Requirement already satisfied: scipy in /opt/conda/lib/python3.11/site-packages (from ImageHash==4.3.1->-r requirements.txt (line 2)) (1.15.1)\n",
      "Requirement already satisfied: setuptools in /opt/conda/lib/python3.11/site-packages (from imageio-ffmpeg==0.5.1->-r requirements.txt (line 3)) (75.8.0)\n",
      "Requirement already satisfied: contourpy>=1.0.1 in /opt/conda/lib/python3.11/site-packages (from matplotlib==3.9.2->-r requirements.txt (line 5)) (1.3.1)\n",
      "Requirement already satisfied: cycler>=0.10 in /opt/conda/lib/python3.11/site-packages (from matplotlib==3.9.2->-r requirements.txt (line 5)) (0.12.1)\n",
      "Requirement already satisfied: fonttools>=4.22.0 in /opt/conda/lib/python3.11/site-packages (from matplotlib==3.9.2->-r requirements.txt (line 5)) (4.55.6)\n",
      "Requirement already satisfied: kiwisolver>=1.3.1 in /opt/conda/lib/python3.11/site-packages (from matplotlib==3.9.2->-r requirements.txt (line 5)) (1.4.7)\n",
      "Requirement already satisfied: packaging>=20.0 in /opt/conda/lib/python3.11/site-packages (from matplotlib==3.9.2->-r requirements.txt (line 5)) (24.2)\n",
      "Requirement already satisfied: pyparsing>=2.3.1 in /opt/conda/lib/python3.11/site-packages (from matplotlib==3.9.2->-r requirements.txt (line 5)) (3.2.1)\n",
      "Requirement already satisfied: python-dateutil>=2.7 in /opt/conda/lib/python3.11/site-packages (from matplotlib==3.9.2->-r requirements.txt (line 5)) (2.9.0.post0)\n",
      "Requirement already satisfied: decorator<5.0,>=4.0.2 in /opt/conda/lib/python3.11/site-packages (from moviepy==1.0.3->-r requirements.txt (line 6)) (4.4.2)\n",
      "Requirement already satisfied: imageio<3.0,>=2.5 in /opt/conda/lib/python3.11/site-packages (from moviepy==1.0.3->-r requirements.txt (line 6)) (2.36.1)\n",
      "Requirement already satisfied: tqdm<5.0,>=4.11.2 in /opt/conda/lib/python3.11/site-packages (from moviepy==1.0.3->-r requirements.txt (line 6)) (4.67.1)\n",
      "Requirement already satisfied: requests<3.0,>=2.8.1 in /opt/conda/lib/python3.11/site-packages (from moviepy==1.0.3->-r requirements.txt (line 6)) (2.32.3)\n",
      "Requirement already satisfied: proglog<=1.0.0 in /opt/conda/lib/python3.11/site-packages (from moviepy==1.0.3->-r requirements.txt (line 6)) (0.1.10)\n",
      "Requirement already satisfied: urllib3>=1.26.18 in /opt/conda/lib/python3.11/site-packages (from opensearch-py==2.4.2->-r requirements.txt (line 8)) (1.26.19)\n",
      "Requirement already satisfied: six in /opt/conda/lib/python3.11/site-packages (from opensearch-py==2.4.2->-r requirements.txt (line 8)) (1.17.0)\n",
      "Requirement already satisfied: certifi>=2022.12.07 in /opt/conda/lib/python3.11/site-packages (from opensearch-py==2.4.2->-r requirements.txt (line 8)) (2024.12.14)\n",
      "Requirement already satisfied: charset_normalizer<4,>=2 in /opt/conda/lib/python3.11/site-packages (from requests<3.0,>=2.8.1->moviepy==1.0.3->-r requirements.txt (line 6)) (3.4.1)\n",
      "Requirement already satisfied: idna<4,>=2.5 in /opt/conda/lib/python3.11/site-packages (from requests<3.0,>=2.8.1->moviepy==1.0.3->-r requirements.txt (line 6)) (3.10)\n",
      "Note: you may need to restart the kernel to use updated packages.\n"
     ]
    }
   ],
   "source": [
    "%pip install -r requirements.txt"
   ]
  },
  {
   "cell_type": "markdown",
   "id": "626bb1bf-f941-4b26-be79-3ca659c87639",
   "metadata": {},
   "source": [
    "## SageMaker 기본 리소스 가져오기"
   ]
  },
  {
   "cell_type": "code",
   "execution_count": 4,
   "id": "63b8b333-7644-4665-95b5-85ce17eae42b",
   "metadata": {
    "editable": false,
    "slideshow": {
     "slide_type": ""
    },
    "tags": []
   },
   "outputs": [
    {
     "name": "stdout",
     "output_type": "stream",
     "text": [
      "sagemaker.config INFO - Not applying SDK defaults from location: /etc/xdg/sagemaker/config.yaml\n",
      "sagemaker.config INFO - Not applying SDK defaults from location: /home/sagemaker-user/.config/sagemaker/config.yaml\n",
      "{'bucket': 'sagemaker-us-west-2-227211500130', 'role': 'arn:aws:iam::227211500130:role/workshop-SageMakerExecutionRole-WKKoQonyGPqq', 'region': 'us-west-2'}\n"
     ]
    }
   ],
   "source": [
    "import sagemaker\n",
    "\n",
    "sagemaker_resources = {}\n",
    "#sagemaker_resources[\"session\"] = sagemaker.Session()\n",
    "sagemaker_resources[\"bucket\"] = sagemaker.Session().default_bucket()\n",
    "sagemaker_resources[\"role\"] = sagemaker.get_execution_role()\n",
    "sagemaker_resources[\"region\"] = sagemaker.Session()._region_name\n",
    "\n",
    "print(sagemaker_resources)"
   ]
  },
  {
   "cell_type": "markdown",
   "id": "1bb318ff-0b5c-4095-bddf-4eb947baf170",
   "metadata": {},
   "source": [
    "# AWS 세션 리소스 설정\n",
    "\n",
    "AWS 호스팅 이벤트에서 실행하는 경우, AWS 리소스가 사전에 생성되어 있으며 아래 셀을 사용하여 CloudFormation 출력에서 이를 로드할 수 있습니다. 자체 계정에서 실행하는 경우, 수동으로 생성한 리소스에서 다음 변수들을 설정해야 합니다."
   ]
  },
  {
   "cell_type": "markdown",
   "id": "6a018cb6-c58c-41b5-bcdf-263ff932bba2",
   "metadata": {},
   "source": [
    "## Get CloudFormation stack outputs (AWS hosted event only)"
   ]
  },
  {
   "cell_type": "code",
   "execution_count": 5,
   "id": "fb73ce3b-4c34-4fff-8cff-642dcd0c3352",
   "metadata": {
    "editable": true,
    "slideshow": {
     "slide_type": ""
    },
    "tags": []
   },
   "outputs": [],
   "source": [
    "import boto3\n",
    "from IPython.display import JSON\n",
    "cf = boto3.client(service_name=\"cloudformation\")\n",
    "stack = response = cf.describe_stacks(StackName='workshop')"
   ]
  },
  {
   "cell_type": "code",
   "execution_count": 6,
   "id": "227f450a-d480-45d9-a518-d90cb14027ee",
   "metadata": {
    "editable": false,
    "slideshow": {
     "slide_type": ""
    },
    "tags": []
   },
   "outputs": [
    {
     "data": {
      "application/json": {
       "ResponseMetadata": {
        "HTTPHeaders": {
         "connection": "keep-alive",
         "content-length": "3072",
         "content-type": "text/xml",
         "date": "Sat, 08 Feb 2025 05:01:56 GMT",
         "x-amzn-requestid": "cf93ada7-071e-4f33-b7e9-50db802f0d9b"
        },
        "HTTPStatusCode": 200,
        "RequestId": "cf93ada7-071e-4f33-b7e9-50db802f0d9b",
        "RetryAttempts": 0
       },
       "Stacks": [
        {
         "Capabilities": [
          "CAPABILITY_IAM",
          "CAPABILITY_NAMED_IAM",
          "CAPABILITY_AUTO_EXPAND"
         ],
         "ChangeSetId": "arn:aws:cloudformation:us-west-2:227211500130:changeSet/workshop/eda7faf5-d3a7-4bad-9740-54d9b571817c",
         "CreationTime": "2025-02-08T02:07:57.590000Z",
         "Description": "This is a minimal example of creating a SageMaker Studio Domain which will default to JL3 servers at launch\n",
         "DisableRollback": true,
         "DriftInformation": {
          "StackDriftStatus": "NOT_CHECKED"
         },
         "EnableTerminationProtection": false,
         "LastUpdatedTime": "2025-02-08T02:08:28.489000Z",
         "NotificationARNs": [],
         "Outputs": [
          {
           "OutputKey": "StudioDomainId",
           "OutputValue": "d-yki5lqbg5o9x"
          },
          {
           "OutputKey": "SageMakerExecutionRole",
           "OutputValue": "arn:aws:iam::227211500130:role/workshop-SageMakerExecutionRole-WKKoQonyGPqq"
          },
          {
           "OutputKey": "AOSSCollectionEndpoint",
           "OutputValue": "https://2jaffkt6lz8fthf08j29.us-west-2.aoss.amazonaws.com"
          },
          {
           "OutputKey": "StudioUrl",
           "OutputValue": "https://d-yki5lqbg5o9x.studio.us-west-2.sagemaker.aws"
          },
          {
           "OutputKey": "MediaConvertRole",
           "OutputValue": "arn:aws:iam::227211500130:role/workshop-MediaConvertRole"
          },
          {
           "OutputKey": "S3BucketName",
           "OutputValue": "sagemaker-us-west-2-227211500130"
          },
          {
           "OutputKey": "UserProfileName",
           "OutputValue": "workshop-user"
          }
         ],
         "Parameters": [
          {
           "ParameterKey": "DomainName",
           "ParameterValue": "aws-video-understanding-workshop"
          },
          {
           "ParameterKey": "UserProfileName",
           "ParameterValue": "workshop-user"
          }
         ],
         "RollbackConfiguration": {},
         "StackId": "arn:aws:cloudformation:us-west-2:227211500130:stack/workshop/83abd4e0-e5c1-11ef-9af7-06b464ece215",
         "StackName": "workshop",
         "StackStatus": "CREATE_COMPLETE",
         "Tags": []
        }
       ]
      },
      "text/plain": [
       "<IPython.core.display.JSON object>"
      ]
     },
     "execution_count": 6,
     "metadata": {
      "application/json": {
       "expanded": false,
       "root": "root"
      }
     },
     "output_type": "execute_result"
    }
   ],
   "source": [
    "JSON(stack)"
   ]
  },
  {
   "cell_type": "code",
   "execution_count": 7,
   "id": "c6771eae-5fc9-408e-8464-1ed9726b9955",
   "metadata": {
    "editable": false,
    "slideshow": {
     "slide_type": ""
    },
    "tags": []
   },
   "outputs": [],
   "source": [
    "session = {}\n",
    "session['bucket'] = next(item[\"OutputValue\"] for item in stack['Stacks'][0]['Outputs'] if item[\"OutputKey\"] == \"S3BucketName\")\n",
    "session['MediaConvertRole'] = next(item[\"OutputValue\"] for item in stack['Stacks'][0]['Outputs'] if item[\"OutputKey\"] == \"MediaConvertRole\")\n",
    "session[\"AOSSCollectionEndpoint\"] = next(item[\"OutputValue\"] for item in stack['Stacks'][0]['Outputs'] if item[\"OutputKey\"] == \"AOSSCollectionEndpoint\")"
   ]
  },
  {
   "cell_type": "markdown",
   "id": "8170ba61-dfe7-455a-a87b-2c7a691316d9",
   "metadata": {},
   "source": [
    "# Amazon Q Developer 찾기\n",
    "\n",
    "SageMaker Studio의 Jupyter 노트북에는 Amazon Q Developer가 활성화되어 있습니다.\n",
    "\n",
    "1. Q Developer를 사용하려면 왼쪽 사이드바 메뉴에서 Q Developer 아이콘을 클릭하세요.\n",
    "<br></br>\n",
    "<img src=\"static/images/00-qdev-icon.png\" alt=\"Q Developer Icon\" style=\"width: 600px;\"/>\n",
    "<br></br>\n",
    "3. 이제 활성화된 사이드 패널이 Amazon Q Developer가 되어야 합니다.\n",
    "<br></br>\n",
    "<img src=\"static/images/00-qdev-sidebar.png\" alt=\"Q Developer Sidebar\" style=\"width: 600px;\"/>\n",
    "<br></br>\n",
    "5. 질문을 해보면서 사용해보세요. 예를 들어, 다음과 같이 물어볼 수 있습니다: `What kinds of questions can Q developer answer? Be brief.` 다음과 같은 응답을 받을 수 있습니다:\n",
    "<br></br>\n",
    "<img src=\"static/images/00-qdev-skills.png\" alt=\"Q Developer Skills\" style=\"width: 600px;\"/>\n",
    "<br></br>"
   ]
  },
  {
   "cell_type": "markdown",
   "id": "eb045c80-93ee-45dd-9c2f-d510e1cc29bb",
   "metadata": {
    "editable": true,
    "slideshow": {
     "slide_type": ""
    },
    "tags": []
   },
   "source": [
    "이 워크숍 전반에 걸쳐, 오류가 발생하거나 코드에 대한 질문이 있을 때 Q를 사용할 수 있습니다."
   ]
  },
  {
   "cell_type": "markdown",
   "id": "9dd4e668-e7bc-4594-b9e8-d53c9c0834c3",
   "metadata": {
    "editable": true,
    "slideshow": {
     "slide_type": ""
    },
    "tags": []
   },
   "source": [
    "# 다른 노트북에서 사용할 변수 저장하기\n",
    "\n",
    "이 데이터는 다음 실습에서 사용할 예정입니다. 이 데이터를 사용하기 위해 이후 노트북에서 사용할 수 있도록 이 변수들을 저장할 것입니다."
   ]
  },
  {
   "cell_type": "code",
   "execution_count": 8,
   "id": "be070591-e890-4147-97ed-c3f77af4eb35",
   "metadata": {
    "editable": false,
    "slideshow": {
     "slide_type": ""
    },
    "tags": []
   },
   "outputs": [
    {
     "name": "stdout",
     "output_type": "stream",
     "text": [
      "Stored 'sagemaker_resources' (dict)\n",
      "Stored 'session' (dict)\n"
     ]
    }
   ],
   "source": [
    "%store sagemaker_resources\n",
    "%store session"
   ]
  },
  {
   "cell_type": "markdown",
   "id": "970ade49-c037-46d9-b918-cc99abbcac55",
   "metadata": {
    "editable": true,
    "slideshow": {
     "slide_type": ""
    },
    "tags": []
   },
   "source": [
    "# 워크숍의 다음 섹션으로 계속하기"
   ]
  },
  {
   "cell_type": "markdown",
   "id": "2104fa1b-4880-44c7-b715-a3c1ee44d4a1",
   "metadata": {
    "slideshow": {
     "slide_type": ""
    },
    "tags": []
   },
   "source": [
    "계속하려면 다음 노트북 [Video segments: frames, shots, and scenes](01A-visual-segments-frames-shots-scenes.ipynb)으로 이동하세요."
   ]
  },
  {
   "cell_type": "code",
   "execution_count": null,
   "id": "52f9694f-5b19-4b41-a0a7-ab7a888a5260",
   "metadata": {
    "editable": true,
    "slideshow": {
     "slide_type": ""
    },
    "tags": []
   },
   "outputs": [],
   "source": []
  }
 ],
 "metadata": {
  "kernelspec": {
   "display_name": "Python 3 (ipykernel)",
   "language": "python",
   "name": "python3"
  },
  "language_info": {
   "codemirror_mode": {
    "name": "ipython",
    "version": 3
   },
   "file_extension": ".py",
   "mimetype": "text/x-python",
   "name": "python",
   "nbconvert_exporter": "python",
   "pygments_lexer": "ipython3",
   "version": "3.11.11"
  }
 },
 "nbformat": 4,
 "nbformat_minor": 5
}
